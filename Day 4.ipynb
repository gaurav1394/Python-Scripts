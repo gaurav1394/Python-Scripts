{
 "cells": [
  {
   "cell_type": "code",
   "execution_count": 2,
   "metadata": {},
   "outputs": [
    {
     "name": "stdout",
     "output_type": "stream",
     "text": [
      "Gaurav\n"
     ]
    }
   ],
   "source": [
    "#introdution to String methods\n",
    "fullname=\"gaurav\"\n",
    "print(fullname.title())  #Enhancement with the title function"
   ]
  },
  {
   "cell_type": "code",
   "execution_count": 8,
   "metadata": {},
   "outputs": [
    {
     "name": "stdout",
     "output_type": "stream",
     "text": [
      " Gaurav Singh\n"
     ]
    }
   ],
   "source": [
    "#Place Holders\n",
    "\n",
    "fname=\"gaurav\"\n",
    "lname=\"singh\"\n",
    "fullname=f\" {fname} {lname}\"\n",
    "print(fullname.title())"
   ]
  },
  {
   "cell_type": "code",
   "execution_count": 1,
   "metadata": {},
   "outputs": [
    {
     "name": "stdout",
     "output_type": "stream",
     "text": [
      "Gaurav\n"
     ]
    }
   ],
   "source": [
    "#Day 4\n",
    "#Adding whitespacing to the Strings:\n",
    "print(\"Gaurav\")"
   ]
  },
  {
   "cell_type": "code",
   "execution_count": 2,
   "metadata": {},
   "outputs": [
    {
     "name": "stdout",
     "output_type": "stream",
     "text": [
      "\tGaurav\n"
     ]
    }
   ],
   "source": [
    "print(\"\\tGaurav\") #tab delimeter"
   ]
  },
  {
   "cell_type": "code",
   "execution_count": 3,
   "metadata": {},
   "outputs": [
    {
     "name": "stdout",
     "output_type": "stream",
     "text": [
      "Gaurav Singh\n"
     ]
    }
   ],
   "source": [
    "print(\"Gaurav Singh\")"
   ]
  },
  {
   "cell_type": "code",
   "execution_count": 4,
   "metadata": {},
   "outputs": [
    {
     "name": "stdout",
     "output_type": "stream",
     "text": [
      "Gaurav\n",
      "Singh\n"
     ]
    }
   ],
   "source": [
    "print(\"Gaurav\\nSingh\") #new line delimeter"
   ]
  },
  {
   "cell_type": "code",
   "execution_count": 5,
   "metadata": {},
   "outputs": [
    {
     "name": "stdout",
     "output_type": "stream",
     "text": [
      "Gaurav is trying to give his best in Python\n"
     ]
    }
   ],
   "source": [
    "print(\"Gaurav is trying to give his best in Python\")"
   ]
  },
  {
   "cell_type": "code",
   "execution_count": 7,
   "metadata": {},
   "outputs": [
    {
     "name": "stdout",
     "output_type": "stream",
     "text": [
      "\n",
      "Gaurav\n",
      "is\n",
      "trying\n",
      "to\n",
      "give\n",
      "his\n",
      "best\n",
      "in\n",
      "Python\n"
     ]
    }
   ],
   "source": [
    "print(\"\\nGaurav\\nis\\ntrying\\nto\\ngive\\nhis\\nbest\\nin\\nPython\")"
   ]
  },
  {
   "cell_type": "code",
   "execution_count": 8,
   "metadata": {},
   "outputs": [
    {
     "name": "stdout",
     "output_type": "stream",
     "text": [
      "\n",
      "Gaurav\n",
      "\tis\n",
      "\t\ttrying\n",
      "\t\t\tto\n",
      "\t\t\t\tgive\n",
      "\t\t\t\t\this\n",
      "\t\t\t\t\t\tbest\n",
      "\t\t\t\t\t\t\tin\n",
      "\t\t\t\t\t\t\t\tPython\n"
     ]
    }
   ],
   "source": [
    "print(\"\\nGaurav\\n\\tis\\n\\t\\ttrying\\n\\t\\t\\tto\\n\\t\\t\\t\\tgive\\n\\t\\t\\t\\t\\this\\n\\t\\t\\t\\t\\t\\tbest\\n\\t\\t\\t\\t\\t\\t\\tin\\n\\t\\t\\t\\t\\t\\t\\t\\tPython\")"
   ]
  },
  {
   "cell_type": "code",
   "execution_count": 15,
   "metadata": {},
   "outputs": [
    {
     "name": "stdout",
     "output_type": "stream",
     "text": [
      "  Gaurav\n"
     ]
    }
   ],
   "source": [
    "str=\"  Gaurav\"\n",
    "print(str)"
   ]
  },
  {
   "cell_type": "code",
   "execution_count": 16,
   "metadata": {},
   "outputs": [
    {
     "name": "stdout",
     "output_type": "stream",
     "text": [
      "  Gaurav\n"
     ]
    }
   ],
   "source": [
    "print(    str)"
   ]
  },
  {
   "cell_type": "code",
   "execution_count": 18,
   "metadata": {},
   "outputs": [
    {
     "data": {
      "text/plain": [
       "'Gaurav'"
      ]
     },
     "execution_count": 18,
     "metadata": {},
     "output_type": "execute_result"
    }
   ],
   "source": [
    "str.lstrip()"
   ]
  },
  {
   "cell_type": "code",
   "execution_count": 21,
   "metadata": {},
   "outputs": [
    {
     "data": {
      "text/plain": [
       "'  Gaurav'"
      ]
     },
     "execution_count": 21,
     "metadata": {},
     "output_type": "execute_result"
    }
   ],
   "source": [
    "str1=\"Gaurav\"\n",
    "str.rstrip()"
   ]
  },
  {
   "cell_type": "code",
   "execution_count": null,
   "metadata": {},
   "outputs": [],
   "source": []
  },
  {
   "cell_type": "code",
   "execution_count": null,
   "metadata": {},
   "outputs": [],
   "source": []
  }
 ],
 "metadata": {
  "kernelspec": {
   "display_name": "Python 3",
   "language": "python",
   "name": "python3"
  },
  "language_info": {
   "codemirror_mode": {
    "name": "ipython",
    "version": 3
   },
   "file_extension": ".py",
   "mimetype": "text/x-python",
   "name": "python",
   "nbconvert_exporter": "python",
   "pygments_lexer": "ipython3",
   "version": "3.8.2"
  }
 },
 "nbformat": 4,
 "nbformat_minor": 4
}
