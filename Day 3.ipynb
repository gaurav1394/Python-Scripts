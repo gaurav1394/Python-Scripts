{
 "cells": [
  {
   "cell_type": "code",
   "execution_count": 1,
   "metadata": {},
   "outputs": [
    {
     "name": "stdout",
     "output_type": "stream",
     "text": [
      "Hello World\n"
     ]
    }
   ],
   "source": [
    "print (\"Hello World\") # see what I have comemntted "
   ]
  },
  {
   "cell_type": "code",
   "execution_count": 3,
   "metadata": {},
   "outputs": [
    {
     "name": "stdout",
     "output_type": "stream",
     "text": [
      "Gaurav\n"
     ]
    }
   ],
   "source": [
    "firstname = \"Gaurav\" \n",
    "#Variables are the place holders for the vaulues are asociated with them.\n",
    "## Rules for declaring the variables:--\n",
    "###1. Should not have any gap. 2. Should not start with numeric. 3. Should not have any special charcter\n",
    "print(firstname)"
   ]
  },
  {
   "cell_type": "code",
   "execution_count": null,
   "metadata": {},
   "outputs": [],
   "source": [
    "Data types in python:\n",
    "    1. String\n",
    "    2. Int\n",
    "    3. List\n",
    "    4. Tuple\n",
    "    5. Dictionary\n",
    "Data types can be clasified in 2 types\n",
    "    1. Mutable: we can modify, reassign o alter the data what we are having.\n",
    "    2. Immuatable: We cannot modify, reassign or alter the data what we are having.\n"
   ]
  },
  {
   "cell_type": "code",
   "execution_count": null,
   "metadata": {},
   "outputs": [],
   "source": [
    "String Data Type: \n",
    "    - String is series of the character\n",
    "    - Anything between quotes is called as string.\n",
    "3 possible way to define a string\n",
    "Name1 = 'Gaurav' # Single Quote\n",
    "Name2 = \"Gaurav\" # Double Quote\n",
    "Name3 = '''Gaurav''' # Triple Quote"
   ]
  }
 ],
 "metadata": {
  "kernelspec": {
   "display_name": "Python 3",
   "language": "python",
   "name": "python3"
  },
  "language_info": {
   "codemirror_mode": {
    "name": "ipython",
    "version": 3
   },
   "file_extension": ".py",
   "mimetype": "text/x-python",
   "name": "python",
   "nbconvert_exporter": "python",
   "pygments_lexer": "ipython3",
   "version": "3.8.2"
  }
 },
 "nbformat": 4,
 "nbformat_minor": 4
}
